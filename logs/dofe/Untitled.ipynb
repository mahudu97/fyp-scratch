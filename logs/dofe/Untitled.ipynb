{
 "cells": [
  {
   "cell_type": "code",
   "execution_count": 9,
   "metadata": {},
   "outputs": [],
   "source": [
    "DEFAULT_DIM_0    = 64, 256\n",
    "DEFAULT_DIM_1    = 64, 256\n",
    "DEFAULT_DENSITY  = 0.02, 0.1\n",
    "DEFAULT_NUM_UNIQ = 32, 64"
   ]
  },
  {
   "cell_type": "code",
   "execution_count": 23,
   "metadata": {},
   "outputs": [],
   "source": [
    "from ast import literal_eval as eval\n",
    "\n",
    "upstream_times = []\n",
    "local_times = []\n",
    "\n",
    "with open(\"run_.out\") as f:\n",
    "    for line in f:\n",
    "        if '{' in line:\n",
    "            res = eval(line)\n",
    "            m=res['a_rows']\n",
    "            n=res['a_cols']\n",
    "            p=res['density']\n",
    "            q=res['a_unique']\n",
    "            u_tup = ( (m,n,p,q) , res['xsmm_upstream_best'] )\n",
    "            l_tup = ( (m,n,p,q) , res['xsmm_local_best'] )\n",
    "\n",
    "            upstream_times.append(u_tup)\n",
    "            local_times.append(l_tup)"
   ]
  },
  {
   "cell_type": "code",
   "execution_count": 33,
   "metadata": {},
   "outputs": [
    {
     "data": {
      "text/plain": [
       "[((64, 64, 0.099853515625, 32), 37.821),\n",
       " ((64, 64, 0.099853515625, 64), 38.687),\n",
       " ((64, 64, 0.019775390625, 32), 20.829),\n",
       " ((64, 64, 0.019775390625, 64), 18.948),\n",
       " ((64, 256, 0.0999755859375, 32), 156.819),\n",
       " ((64, 256, 0.0999755859375, 64), 142.324),\n",
       " ((64, 256, 0.01995849609375, 32), 70.904),\n",
       " ((64, 256, 0.01995849609375, 64), 69.063),\n",
       " ((256, 64, 0.0999755859375, 32), 105.489),\n",
       " ((256, 64, 0.0999755859375, 64), 105.57),\n",
       " ((256, 64, 0.01995849609375, 32), 60.827),\n",
       " ((256, 64, 0.01995849609375, 64), 61.497),\n",
       " ((256, 256, 0.0999908447265625, 32), 934.692),\n",
       " ((256, 256, 0.0999908447265625, 64), 944.864),\n",
       " ((256, 256, 0.019989013671875, 32), 182.078),\n",
       " ((256, 256, 0.019989013671875, 64), 163.016)]"
      ]
     },
     "execution_count": 33,
     "metadata": {},
     "output_type": "execute_result"
    }
   ],
   "source": [
    "local_times"
   ]
  },
  {
   "cell_type": "code",
   "execution_count": null,
   "metadata": {},
   "outputs": [],
   "source": []
  }
 ],
 "metadata": {
  "kernelspec": {
   "display_name": "Python 3",
   "language": "python",
   "name": "python3"
  },
  "language_info": {
   "codemirror_mode": {
    "name": "ipython",
    "version": 3
   },
   "file_extension": ".py",
   "mimetype": "text/x-python",
   "name": "python",
   "nbconvert_exporter": "python",
   "pygments_lexer": "ipython3",
   "version": "3.6.9"
  }
 },
 "nbformat": 4,
 "nbformat_minor": 4
}
