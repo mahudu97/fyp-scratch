{
 "cells": [
  {
   "cell_type": "code",
   "execution_count": 1,
   "metadata": {},
   "outputs": [],
   "source": [
    "import matplotlib.pyplot as plt\n",
    "import os\n",
    "import numpy as np"
   ]
  },
  {
   "cell_type": "markdown",
   "metadata": {},
   "source": [
    "## Helpers"
   ]
  },
  {
   "cell_type": "code",
   "execution_count": 2,
   "metadata": {},
   "outputs": [],
   "source": [
    "def clean(matrix, tol=1e-10):\n",
    "    arr = matrix.copy()\n",
    "\n",
    "    # Flush small elements to zero\n",
    "    arr[np.abs(arr) < tol] = 0\n",
    "\n",
    "    # Coalesce similar elements\n",
    "    if arr.size > 1:\n",
    "        amfl = np.abs(arr.flat)\n",
    "        amix = np.argsort(amfl)\n",
    "\n",
    "        i, ix = 0, amix[0]\n",
    "        for j, jx in enumerate(amix[1:], start=1):\n",
    "            if amfl[jx] - amfl[ix] >= tol:\n",
    "                if j - i > 1:\n",
    "                    amfl[amix[i:j]] = np.median(amfl[amix[i:j]])\n",
    "                i, ix = j, jx\n",
    "\n",
    "        if i != j:\n",
    "            amfl[amix[i:]] = np.median(amfl[amix[i:]])\n",
    "\n",
    "        # Fix up the signs and assign\n",
    "        arr.flat = np.copysign(amfl, arr.flat)\n",
    "\n",
    "    return arr"
   ]
  },
  {
   "cell_type": "code",
   "execution_count": 3,
   "metadata": {},
   "outputs": [],
   "source": [
    "MAT_DIR = \"./../../example_mats_med\"\n",
    "\n",
    "matrices = {\n",
    "    \"quad\" : {},\n",
    "    \"hex\"  : {},\n",
    "    \"tet\"  : {},\n",
    "    \"tri\"  : {}\n",
    "}"
   ]
  },
  {
   "cell_type": "code",
   "execution_count": 4,
   "metadata": {},
   "outputs": [],
   "source": [
    "for d in os.walk(MAT_DIR):\n",
    "    # mat file names\n",
    "    for m in d[2]:\n",
    "        mat_data = np.loadtxt(os.path.join(d[0], m))\n",
    "        mat_data = clean(mat_data)\n",
    "        # order of prolem and sub type\n",
    "        mat_name = d[0].split(\"/\")[-2] + \"-\" + d[0].split(\"/\")[-1]\n",
    "        # add size\n",
    "        mat_name += \"-\" + m.split(\".\")[0]\n",
    "\n",
    "        # store in correct location according to type\n",
    "        for k in matrices.keys():\n",
    "            if k in d[0]:\n",
    "                matrices[k][mat_name] = mat_data"
   ]
  },
  {
   "cell_type": "markdown",
   "metadata": {},
   "source": [
    "## Base Pseudo FLOPS"
   ]
  },
  {
   "cell_type": "code",
   "execution_count": 8,
   "metadata": {},
   "outputs": [
    {
     "data": {
      "text/plain": [
       "array([[ 0.8660254,  0.8660254,  0.       ,  0.       ,  0.8660254,\n",
       "         0.       ,  0.8660254,  0.       ],\n",
       "       [-0.8660254, -0.8660254,  0.       ,  0.       ,  0.       ,\n",
       "         0.8660254,  0.       ,  0.8660254],\n",
       "       [ 0.       ,  0.       ,  0.8660254,  0.8660254, -0.8660254,\n",
       "         0.       , -0.8660254,  0.       ],\n",
       "       [ 0.       ,  0.       , -0.8660254, -0.8660254,  0.       ,\n",
       "        -0.8660254,  0.       , -0.8660254]])"
      ]
     },
     "execution_count": 8,
     "metadata": {},
     "output_type": "execute_result"
    }
   ],
   "source": [
    "matrices[\"quad\"]['p1-gauss-legendre-m132']"
   ]
  },
  {
   "cell_type": "code",
   "execution_count": 21,
   "metadata": {},
   "outputs": [],
   "source": [
    "TARGET_B_SIZE = 100 * 1e6\n",
    "AVX_512_WIDTH = 8"
   ]
  },
  {
   "cell_type": "markdown",
   "metadata": {},
   "source": [
    "Need:\n",
    "\n",
    "    - width of B\n",
    "    - number of non-zero in A"
   ]
  },
  {
   "cell_type": "code",
   "execution_count": 35,
   "metadata": {},
   "outputs": [],
   "source": [
    "def basic_gflops(mat):\n",
    "    # A and B dimensions\n",
    "    mat_a_dims = mat.shape\n",
    "    mat_b_dims = (mat_a_dims[1], int(TARGET_B_SIZE/mat_a_dims[1]))\n",
    "    \n",
    "    # below count would be repeated across panels of B\n",
    "    num_panels = mat_b_dims[1]/AVX_512_WIDTH\n",
    "\n",
    "    # ijk loop skipping 0s\n",
    "    # assume SIMD version - 8 wide - using FMA\n",
    "    flops = 0\n",
    "    for row in mat:\n",
    "        for el in row:\n",
    "            if el != 0:\n",
    "                # can add load of B here\n",
    "                flops += 8 # 8 wide FMA\n",
    "        # can add store count here\n",
    "    \n",
    "    return (flops * num_panels) / 1e9 # for whole mat mul - GFLOPS"
   ]
  },
  {
   "cell_type": "code",
   "execution_count": 36,
   "metadata": {},
   "outputs": [],
   "source": [
    "l = basic_gflops(matrices[\"quad\"]['p1-gauss-legendre-m132'])"
   ]
  },
  {
   "cell_type": "code",
   "execution_count": 37,
   "metadata": {},
   "outputs": [
    {
     "data": {
      "text/plain": [
       "0.2"
      ]
     },
     "execution_count": 37,
     "metadata": {},
     "output_type": "execute_result"
    }
   ],
   "source": [
    "l"
   ]
  },
  {
   "cell_type": "code",
   "execution_count": null,
   "metadata": {},
   "outputs": [],
   "source": []
  }
 ],
 "metadata": {
  "kernelspec": {
   "display_name": "Python 3",
   "language": "python",
   "name": "python3"
  },
  "language_info": {
   "codemirror_mode": {
    "name": "ipython",
    "version": 3
   },
   "file_extension": ".py",
   "mimetype": "text/x-python",
   "name": "python",
   "nbconvert_exporter": "python",
   "pygments_lexer": "ipython3",
   "version": "3.6.9"
  }
 },
 "nbformat": 4,
 "nbformat_minor": 4
}
