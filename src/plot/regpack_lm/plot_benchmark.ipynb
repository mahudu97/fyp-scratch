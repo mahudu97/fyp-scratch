{
 "cells": [
  {
   "cell_type": "code",
   "execution_count": null,
   "metadata": {},
   "outputs": [],
   "source": [
    "import matplotlib.pyplot as plt\n",
    "import pickle\n",
    "import os\n",
    "import numpy as np"
   ]
  },
  {
   "cell_type": "markdown",
   "metadata": {},
   "source": [
    "# Calc FLOPS"
   ]
  },
  {
   "cell_type": "code",
   "execution_count": null,
   "metadata": {},
   "outputs": [],
   "source": [
    "from calc_pseudo import clean, basic_flops\n",
    "B_TARGET_PANEL_WIDTH = 48"
   ]
  },
  {
   "cell_type": "code",
   "execution_count": null,
   "metadata": {},
   "outputs": [],
   "source": [
    "MAT_PATH = \"./../../../example_mats_med/\"\n",
    "mat_paths = sum([[os.path.join(dir, file) for file in files] for dir, _, files in os.walk(MAT_PATH)], [])"
   ]
  },
  {
   "cell_type": "code",
   "execution_count": null,
   "metadata": {},
   "outputs": [],
   "source": [
    "mat_flops = {}"
   ]
  },
  {
   "cell_type": "code",
   "execution_count": null,
   "metadata": {},
   "outputs": [],
   "source": [
    "for mat_path in mat_paths:\n",
    "    with open(mat_path) as f:\n",
    "        test_mat = clean(np.loadtxt(f))\n",
    "    FLOPS_PER_PANEL = basic_flops(test_mat, B_TARGET_PANEL_WIDTH)\n",
    "    \n",
    "    mat_flops[mat_path.split(\"./../../../\")[1]] = FLOPS_PER_PANEL"
   ]
  },
  {
   "cell_type": "markdown",
   "metadata": {},
   "source": [
    "## Load Data"
   ]
  },
  {
   "cell_type": "code",
   "execution_count": null,
   "metadata": {},
   "outputs": [],
   "source": [
    "LOG_DIR = \"./../../../logs/regpack_lm/pyfr/\""
   ]
  },
  {
   "cell_type": "code",
   "execution_count": null,
   "metadata": {},
   "outputs": [],
   "source": [
    "# 'a_cols'\n",
    "# 'a_nonzero'\n",
    "# 'a_rows'\n",
    "# 'a_size'\n",
    "# 'a_unique'\n",
    "# 'density'\n",
    "# 'mat_file'\n",
    "# 'speedup_avg'\n",
    "# 'speedup_best'\n",
    "# 'xsmm_local_avg'\n",
    "# 'xsmm_local_best'\n",
    "# 'xsmm_upstream_avg'\n",
    "# 'xsmm_upstream_best'\n",
    "\n",
    "with open(LOG_DIR+\"run_1.dat\", \"rb\") as f:\n",
    "    run_1 = pickle.load(f)\n",
    "with open(LOG_DIR+\"run_2.dat\", \"rb\") as f:\n",
    "    run_2 = pickle.load(f)\n",
    "with open(LOG_DIR+\"run_3.dat\", \"rb\") as f:\n",
    "    run_3 = pickle.load(f)"
   ]
  },
  {
   "cell_type": "markdown",
   "metadata": {},
   "source": [
    "## Sort Data"
   ]
  },
  {
   "cell_type": "code",
   "execution_count": null,
   "metadata": {},
   "outputs": [],
   "source": [
    "def sort_values(x_term, run, mat_flops, t='best'):\n",
    "    NUM_PANELS = 192000 / 48\n",
    "\n",
    "    local_best = []\n",
    "    ref_best = []\n",
    "    local_best_x, local_best_y = [], []\n",
    "    ref_best_x, ref_best_y = [], []\n",
    "\n",
    "    for i, u in enumerate(run[x_term]):\n",
    "        FLOPS_PER_PANEL = mat_flops[run['mat_file'][i]]\n",
    "\n",
    "        time_per_panel_local = (run['xsmm_local_'+t][i]*1e-3)/NUM_PANELS\n",
    "        time_per_panel_ref   = (run['xsmm_upstream_'+t][i]*1e-3)/NUM_PANELS\n",
    "        \n",
    "        local_best_x.append(u)\n",
    "        local_best_y.append(FLOPS_PER_PANEL / time_per_panel_local)\n",
    "        ref_best_x.append(u)\n",
    "        ref_best_y.append(FLOPS_PER_PANEL / time_per_panel_ref)\n",
    "    \n",
    "    old_len = len(local_best_y)\n",
    "\n",
    "    local_best_y = [x for _,x in sorted(zip(local_best_x,local_best_y))]\n",
    "    local_best_x.sort()\n",
    "    \n",
    "    assert(old_len == len(local_best_y))\n",
    "\n",
    "    ref_best_y = [x for _,x in sorted(zip(ref_best_x,ref_best_y))]\n",
    "    ref_best_x.sort()\n",
    "\n",
    "    return local_best_x, local_best_y, ref_best_x, ref_best_y"
   ]
  },
  {
   "cell_type": "code",
   "execution_count": null,
   "metadata": {},
   "outputs": [],
   "source": [
    "x_terms = ['a_unique', 'a_cols', 'a_rows', 'a_size', 'density']\n",
    "xlabels = ['Number of Unique Constants', 'Number of Columns',\n",
    "           'Number of Rows', 'Size', 'Density']\n",
    "xtitles = ['Number of Unique Constants in A', 'Number of Columns in A',\n",
    "           'Number of Rows in A', 'Size of A', 'Density of A']"
   ]
  },
  {
   "cell_type": "markdown",
   "metadata": {},
   "source": [
    "# Quad"
   ]
  },
  {
   "cell_type": "code",
   "execution_count": null,
   "metadata": {},
   "outputs": [],
   "source": [
    "for i, x_term in enumerate(x_terms):\n",
    "    # plot best\n",
    "    plt.figure(figsize=(10,5))\n",
    "    local_best_x1, local_best_y1, ref_best_x1, ref_best_y1 = \\\n",
    "        sort_values(x_term, run_1[\"quad\"], mat_flops, 'best')\n",
    "    local_best_x2, local_best_y2, ref_best_x2, ref_best_y2 = \\\n",
    "        sort_values(x_term, run_2[\"quad\"], mat_flops, 'best')\n",
    "    local_best_x3, local_best_y3, ref_best_x3, ref_best_y3 = \\\n",
    "        sort_values(x_term, run_3[\"quad\"], mat_flops, 'best')\n",
    "    local_best_y_avg = [sum(elem)/len(elem) for elem in zip(local_best_y1, local_best_y2, local_best_y3)]\n",
    "    ref_best_y_avg = [sum(elem)/len(elem) for elem in zip(ref_best_y1, ref_best_y2, ref_best_y3)]\n",
    "\n",
    "#     ln3_best_x1, local_best_y1, ref_best_x1, ref_best_y1 = \\\n",
    "#         sort_values(x_term, ln3_run_1[\"quad\"], mat_flops, 'best')\n",
    "#     local_best_x2, local_best_y2, ref_best_x2, ref_best_y2 = \\\n",
    "#         sort_values(x_term, ln3_run_2[\"quad\"], mat_flops, 'best')\n",
    "#     local_best_x3, local_best_y3, ref_best_x3, ref_best_y3 = \\\n",
    "#         sort_values(x_term, ln3_run_3[\"quad\"], mat_flops, 'best')\n",
    "#     ln3_best_y_avg = [sum(elem)/len(elem) for elem in zip(local_best_y1, local_best_y2, local_best_y3)]\n",
    "\n",
    "#     plt.plot(ln3_best_x1, ln3_best_y_avg, label=\"RegPack 3 Acc\", color=\"orange\", marker=\".\")\n",
    "    plt.plot(local_best_x1, local_best_y_avg, label=\"RegPack 2 Acc\", color=\"limegreen\", marker=\".\")\n",
    "    plt.plot(ref_best_x1, ref_best_y_avg, label=\"RegPack Base\", color=\"maroon\", marker=\".\")\n",
    "\n",
    "    plt.xlabel(xlabels[i])\n",
    "    plt.ylabel(\"Pseudo-FLOP/s\")\n",
    "    plt.yscale(\"log\", basey=10)\n",
    "    plt.title(\"Quad: \" + xtitles[i] + \" vs Pseudo-FLOP/s\")\n",
    "    plt.ylim(top=10e9)\n",
    "    plt.legend()\n",
    "    plt.savefig(\"./../../../plots/regpack_lm/pyfr/quad/\"+x_term+\".pdf\")\n",
    "    plt.show()"
   ]
  },
  {
   "cell_type": "markdown",
   "metadata": {},
   "source": [
    "# Hex"
   ]
  },
  {
   "cell_type": "code",
   "execution_count": null,
   "metadata": {},
   "outputs": [],
   "source": [
    "for i, x_term in enumerate(x_terms):\n",
    "    # plot best\n",
    "    plt.figure(figsize=(10,5))\n",
    "    local_best_x1, local_best_y1, ref_best_x1, ref_best_y1 = \\\n",
    "        sort_values(x_term, run_1[\"hex\"], mat_flops, 'best')\n",
    "    local_best_x2, local_best_y2, ref_best_x2, ref_best_y2 = \\\n",
    "        sort_values(x_term, run_2[\"hex\"], mat_flops, 'best')\n",
    "    local_best_x3, local_best_y3, ref_best_x3, ref_best_y3 = \\\n",
    "        sort_values(x_term, run_3[\"hex\"], mat_flops, 'best')\n",
    "    local_best_y_avg = [sum(elem)/len(elem) for elem in zip(local_best_y1, local_best_y2, local_best_y3)]\n",
    "    ref_best_y_avg = [sum(elem)/len(elem) for elem in zip(ref_best_y1, ref_best_y2, ref_best_y3)]\n",
    "\n",
    "#     ln3_best_x1, local_best_y1, ref_best_x1, ref_best_y1 = \\\n",
    "#         sort_values(x_term, ln3_run_1[\"hex\"], mat_flops, 'best')\n",
    "#     local_best_x2, local_best_y2, ref_best_x2, ref_best_y2 = \\\n",
    "#         sort_values(x_term, ln3_run_2[\"hex\"], mat_flops, 'best')\n",
    "#     local_best_x3, local_best_y3, ref_best_x3, ref_best_y3 = \\\n",
    "#         sort_values(x_term, ln3_run_3[\"hex\"], mat_flops, 'best')\n",
    "#     ln3_best_y_avg = [sum(elem)/len(elem) for elem in zip(local_best_y1, local_best_y2, local_best_y3)]\n",
    "\n",
    "#     plt.plot(ln3_best_x1, ln3_best_y_avg, label=\"RegPack 3 Acc\", color=\"orange\", marker=\".\")\n",
    "    plt.plot(local_best_x1, local_best_y_avg, label=\"RegPack 2 Acc\", color=\"limegreen\", marker=\".\")\n",
    "    plt.plot(ref_best_x1, ref_best_y_avg, label=\"RegPack Base\", color=\"maroon\", marker=\".\")\n",
    "    \n",
    "    plt.xlabel(xlabels[i])\n",
    "    plt.ylabel(\"Pseudo-FLOP/s\")\n",
    "    plt.yscale(\"log\", basey=10)\n",
    "    plt.ylim(1e8, 1e10)\n",
    "    plt.title(\"Hex: \" + xtitles[i] + \" vs Pseudo-FLOP/s\")\n",
    "    plt.legend()\n",
    "    plt.savefig(\"./../../../plots/regpack_lm/pyfr/hex/\"+x_term+\".pdf\")\n",
    "    plt.show()"
   ]
  },
  {
   "cell_type": "markdown",
   "metadata": {},
   "source": [
    "# Tet"
   ]
  },
  {
   "cell_type": "code",
   "execution_count": null,
   "metadata": {},
   "outputs": [],
   "source": [
    "for i, x_term in enumerate(x_terms):\n",
    "    # plot best\n",
    "    plt.figure(figsize=(10,5))\n",
    "    local_best_x1, local_best_y1, ref_best_x1, ref_best_y1 = \\\n",
    "        sort_values(x_term, run_1[\"tet\"], mat_flops, 'best')\n",
    "    local_best_x2, local_best_y2, ref_best_x2, ref_best_y2 = \\\n",
    "        sort_values(x_term, run_2[\"tet\"], mat_flops, 'best')\n",
    "    local_best_x3, local_best_y3, ref_best_x3, ref_best_y3 = \\\n",
    "        sort_values(x_term, run_3[\"tet\"], mat_flops, 'best')\n",
    "    local_best_y_avg = [sum(elem)/len(elem) for elem in zip(local_best_y1, local_best_y2, local_best_y3)]\n",
    "    ref_best_y_avg = [sum(elem)/len(elem) for elem in zip(ref_best_y1, ref_best_y2, ref_best_y3)]\n",
    "\n",
    "#     ln3_best_x1, local_best_y1, ref_best_x1, ref_best_y1 = \\\n",
    "#         sort_values(x_term, ln3_run_1[\"tet\"], mat_flops, 'best')\n",
    "#     local_best_x2, local_best_y2, ref_best_x2, ref_best_y2 = \\\n",
    "#         sort_values(x_term, ln3_run_2[\"tet\"], mat_flops, 'best')\n",
    "#     local_best_x3, local_best_y3, ref_best_x3, ref_best_y3 = \\\n",
    "#         sort_values(x_term, ln3_run_3[\"tet\"], mat_flops, 'best')\n",
    "#     ln3_best_y_avg = [sum(elem)/len(elem) for elem in zip(local_best_y1, local_best_y2, local_best_y3)]\n",
    "\n",
    "#     plt.plot(ln3_best_x1, ln3_best_y_avg, label=\"RegPack 3 Acc\", color=\"orange\", marker=\".\")\n",
    "    plt.plot(local_best_x1, local_best_y_avg, label=\"RegPack 2 Acc\", color=\"limegreen\", marker=\".\")\n",
    "    plt.plot(ref_best_x1, ref_best_y_avg, label=\"RegPack Base\", color=\"maroon\", marker=\".\")\n",
    "\n",
    "    plt.xlabel(xlabels[i])\n",
    "    plt.ylabel(\"Pseudo-FLOP/s\")\n",
    "    plt.yscale(\"log\", basey=10)\n",
    "    plt.ylim(5e9,3e10)\n",
    "    plt.title(\"Tet: \" + xtitles[i] + \" vs Pseudo-FLOP/s\")\n",
    "    plt.legend()\n",
    "    plt.savefig(\"./../../../plots/regpack_lm/pyfr/tet/\"+x_term+\".pdf\")\n",
    "    plt.show()"
   ]
  },
  {
   "cell_type": "markdown",
   "metadata": {},
   "source": [
    "# Tri"
   ]
  },
  {
   "cell_type": "code",
   "execution_count": null,
   "metadata": {},
   "outputs": [],
   "source": [
    "for i, x_term in enumerate(x_terms):\n",
    "    # plot best\n",
    "    plt.figure(figsize=(10,5))\n",
    "    local_best_x1, local_best_y1, ref_best_x1, ref_best_y1 = \\\n",
    "        sort_values(x_term, run_1[\"tri\"], mat_flops, 'best')\n",
    "    local_best_x2, local_best_y2, ref_best_x2, ref_best_y2 = \\\n",
    "        sort_values(x_term, run_2[\"tri\"], mat_flops, 'best')\n",
    "    local_best_x3, local_best_y3, ref_best_x3, ref_best_y3 = \\\n",
    "        sort_values(x_term, run_3[\"tri\"], mat_flops, 'best')\n",
    "    local_best_y_avg = [sum(elem)/len(elem) for elem in zip(local_best_y1, local_best_y2, local_best_y3)]\n",
    "    ref_best_y_avg = [sum(elem)/len(elem) for elem in zip(ref_best_y1, ref_best_y2, ref_best_y3)]\n",
    "\n",
    "#     ln3_best_x1, local_best_y1, ref_best_x1, ref_best_y1 = \\\n",
    "#         sort_values(x_term, ln3_run_1[\"tri\"], mat_flops, 'best')\n",
    "#     local_best_x2, local_best_y2, ref_best_x2, ref_best_y2 = \\\n",
    "#         sort_values(x_term, ln3_run_2[\"tri\"], mat_flops, 'best')\n",
    "#     local_best_x3, local_best_y3, ref_best_x3, ref_best_y3 = \\\n",
    "#         sort_values(x_term, ln3_run_3[\"tri\"], mat_flops, 'best')\n",
    "#     ln3_best_y_avg = [sum(elem)/len(elem) for elem in zip(local_best_y1, local_best_y2, local_best_y3)]\n",
    "\n",
    "#     plt.plot(ln3_best_x1, ln3_best_y_avg, label=\"RegPack 3 Acc\", color=\"orange\", marker=\".\")\n",
    "    plt.plot(local_best_x1, local_best_y_avg, label=\"RegPack 2 Acc\", color=\"limegreen\", marker=\".\")\n",
    "    plt.plot(ref_best_x1, ref_best_y_avg, label=\"RegPack Base\", color=\"maroon\", marker=\".\")\n",
    "\n",
    "    plt.xlabel(xlabels[i])\n",
    "    plt.ylabel(\"Pseudo-FLOP/s\")\n",
    "    plt.yscale(\"log\", basey=10)\n",
    "    plt.title(\"Tri: \" + xtitles[i] + \" vs Pseudo-FLOP/s\")\n",
    "    plt.legend()\n",
    "    plt.savefig(\"./../../../plots/regpack_lm/pyfr/tri/\"+x_term+\".pdf\")\n",
    "    plt.show()"
   ]
  },
  {
   "cell_type": "code",
   "execution_count": null,
   "metadata": {},
   "outputs": [],
   "source": []
  }
 ],
 "metadata": {
  "kernelspec": {
   "display_name": "Python 3",
   "language": "python",
   "name": "python3"
  },
  "language_info": {
   "codemirror_mode": {
    "name": "ipython",
    "version": 3
   },
   "file_extension": ".py",
   "mimetype": "text/x-python",
   "name": "python",
   "nbconvert_exporter": "python",
   "pygments_lexer": "ipython3",
   "version": "3.6.9"
  }
 },
 "nbformat": 4,
 "nbformat_minor": 4
}
