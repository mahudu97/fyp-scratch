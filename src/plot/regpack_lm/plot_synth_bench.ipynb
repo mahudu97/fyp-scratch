{
 "cells": [
  {
   "cell_type": "code",
   "execution_count": null,
   "metadata": {},
   "outputs": [],
   "source": [
    "import matplotlib.pyplot as plt\n",
    "import pickle\n",
    "import os\n",
    "import numpy as np"
   ]
  },
  {
   "cell_type": "markdown",
   "metadata": {},
   "source": [
    "# Calc FLOPS"
   ]
  },
  {
   "cell_type": "code",
   "execution_count": null,
   "metadata": {},
   "outputs": [],
   "source": [
    "from calc_pseudo import clean, basic_flops\n",
    "B_TARGET_PANEL_WIDTH = 48"
   ]
  },
  {
   "cell_type": "code",
   "execution_count": null,
   "metadata": {},
   "outputs": [],
   "source": [
    "MAT_PATH = \"./../../../synth_mats/\"\n",
    "mat_paths = sum([[os.path.join(dir, file) for file in files] for dir, _, files in os.walk(MAT_PATH)], [])"
   ]
  },
  {
   "cell_type": "code",
   "execution_count": null,
   "metadata": {},
   "outputs": [],
   "source": [
    "mat_flops = {}"
   ]
  },
  {
   "cell_type": "code",
   "execution_count": null,
   "metadata": {},
   "outputs": [],
   "source": [
    "for mat_path in mat_paths:\n",
    "    with open(mat_path) as f:\n",
    "        test_mat = clean(np.loadtxt(f))\n",
    "    FLOPS_PER_PANEL = basic_flops(test_mat, B_TARGET_PANEL_WIDTH)\n",
    "    \n",
    "    mat_flops[mat_path.split(\"./../../../\")[1]] = FLOPS_PER_PANEL"
   ]
  },
  {
   "cell_type": "markdown",
   "metadata": {},
   "source": [
    "## Load Data"
   ]
  },
  {
   "cell_type": "code",
   "execution_count": null,
   "metadata": {},
   "outputs": [],
   "source": [
    "LOG_DIR = \"./../../../logs/regpack_lm/synth/\""
   ]
  },
  {
   "cell_type": "code",
   "execution_count": null,
   "metadata": {},
   "outputs": [],
   "source": [
    "# 'a_cols'\n",
    "# 'a_rows'\n",
    "# 'a_unique'\n",
    "# 'density'\n",
    "# 'mat_file'\n",
    "# 'speedup_avg'\n",
    "# 'speedup_best'\n",
    "# 'xsmm_local_avg'\n",
    "# 'xsmm_local_best'\n",
    "# 'xsmm_upstream_avg'\n",
    "# 'xsmm_upstream_best'\n",
    "\n",
    "with open(LOG_DIR+\"run_1.dat\", \"rb\") as f:\n",
    "    run_1 = pickle.load(f)\n",
    "with open(LOG_DIR+\"run_2.dat\", \"rb\") as f:\n",
    "    run_2 = pickle.load(f)\n",
    "with open(LOG_DIR+\"run_3.dat\", \"rb\") as f:\n",
    "    run_3 = pickle.load(f)\n",
    "\n",
    "# with open(LOG_DIR2+\"run_1.dat\", \"rb\") as f:\n",
    "#     ln3_run_1 = pickle.load(f)\n",
    "# with open(LOG_DIR2+\"run_2.dat\", \"rb\") as f:\n",
    "#     ln3_run_2 = pickle.load(f)\n",
    "# with open(LOG_DIR2+\"run_3.dat\", \"rb\") as f:\n",
    "#     ln3_run_3 = pickle.load(f)"
   ]
  },
  {
   "cell_type": "markdown",
   "metadata": {},
   "source": [
    "## Sort Data"
   ]
  },
  {
   "cell_type": "code",
   "execution_count": null,
   "metadata": {},
   "outputs": [],
   "source": [
    "def sort_values(x_term, run, t='best'):\n",
    "    global mat_flops\n",
    "    NUM_PANELS = 192000 / 48\n",
    "\n",
    "    local_best = []\n",
    "    ref_best = []\n",
    "    local_best_x, local_best_y = [], []\n",
    "    ref_best_x, ref_best_y = [], []\n",
    "\n",
    "    for i, u in enumerate(run[x_term]):\n",
    "        FLOPS_PER_PANEL = mat_flops[run['mat_file'][i]]\n",
    "\n",
    "        time_per_panel_local = (run['xsmm_local_'+t][i]*1e-3)/NUM_PANELS\n",
    "        time_per_panel_ref   = (run['xsmm_upstream_'+t][i]*1e-3)/NUM_PANELS\n",
    "        \n",
    "        local_best_x.append(u)\n",
    "        local_best_y.append(FLOPS_PER_PANEL / time_per_panel_local)\n",
    "        ref_best_x.append(u)\n",
    "        ref_best_y.append(FLOPS_PER_PANEL / time_per_panel_ref)\n",
    "    \n",
    "    old_len = len(local_best_y)\n",
    "\n",
    "    local_best_y = [x for _,x in sorted(zip(local_best_x,local_best_y))]\n",
    "    local_best_x.sort()\n",
    "    \n",
    "    assert(old_len == len(local_best_y))\n",
    "\n",
    "    ref_best_y = [x for _,x in sorted(zip(ref_best_x,ref_best_y))]\n",
    "    ref_best_x.sort()\n",
    "\n",
    "    return local_best_x, local_best_y, ref_best_x, ref_best_y"
   ]
  },
  {
   "cell_type": "markdown",
   "metadata": {},
   "source": [
    "# Vary Rows"
   ]
  },
  {
   "cell_type": "code",
   "execution_count": null,
   "metadata": {},
   "outputs": [],
   "source": [
    "plt.figure(dpi=200, figsize=(10,5))\n",
    "\n",
    "# Q 16\n",
    "local_best_x1_16, local_best_y1_16, ref_best_x1_16, ref_best_y1_16 = \\\n",
    "    sort_values(\"a_rows\", run_1[\"vary_row/q_16\"], 'best')\n",
    "local_best_x2_16, local_best_y2_16, ref_best_x2_16, ref_best_y2_16 = \\\n",
    "    sort_values(\"a_rows\", run_2[\"vary_row/q_16\"], 'best')\n",
    "local_best_x3_16, local_best_y3_16, ref_best_x3_16, ref_best_y3_16 = \\\n",
    "    sort_values(\"a_rows\", run_3[\"vary_row/q_16\"], 'best')\n",
    "local_best_y_avg_16 = [sum(elem)/len(elem) for elem in zip(local_best_y1_16, local_best_y2_16, local_best_y3_16)]\n",
    "ref_best_y_avg_16 = [sum(elem)/len(elem) for elem in zip(ref_best_y1_16, ref_best_y2_16, ref_best_y3_16)]\n",
    "\n",
    "# ln3_best_x1_16, local_best_y1_16, _, _ = \\\n",
    "#     sort_values(\"a_rows\", ln3_run_1[\"vary_row/q_16\"], 'best')\n",
    "# local_best_x2_16, local_best_y2_16, _, _ = \\\n",
    "#     sort_values(\"a_rows\", ln3_run_2[\"vary_row/q_16\"], 'best')\n",
    "# local_best_x3_16, local_best_y3_16, _, _ = \\\n",
    "#     sort_values(\"a_rows\", ln3_run_3[\"vary_row/q_16\"], 'best')\n",
    "# ln3_best_y_avg_16 = [sum(elem)/len(elem) for elem in zip(local_best_y1_16, local_best_y2_16, local_best_y3_16)]\n",
    "\n",
    "# plt.plot(ln3_best_x1_16, ln3_best_y1_16, label=\"RegPack 3 Acc U16\", color=\"orange\", marker=\".\")\n",
    "plt.plot(local_best_x1_16, local_best_y_avg_16, label=\"RegPack 2 Acc U16\", color=\"limegreen\", marker=\".\")\n",
    "plt.plot(ref_best_x1_16, ref_best_y_avg_16, label=\"RegPack Base U16\", color=\"maroon\", marker=\".\")\n",
    "\n",
    "plt.xlabel(\"Number of Rows\")\n",
    "plt.ylabel(\"Pseudo-FLOP/s\")\n",
    "plt.yscale(\"log\", basey=10)\n",
    "plt.xscale(\"log\", basex=2)\n",
    "plt.ylim(bottom=1e9)\n",
    "plt.title(\"Number of Rows in A vs Pseudo-FLOP/s\")\n",
    "plt.legend()\n",
    "plt.savefig(\"./../../../plots/regpack_lm/synth/vary_row_u16.pdf\")\n",
    "plt.show()"
   ]
  },
  {
   "cell_type": "code",
   "execution_count": null,
   "metadata": {},
   "outputs": [],
   "source": [
    "plt.figure(dpi=200, figsize=(10,5))\n",
    "\n",
    "\n",
    "# Q 64\n",
    "local_best_x1_64, local_best_y1_64, ref_best_x1_64, ref_best_y1_64 = \\\n",
    "    sort_values(\"a_rows\", run_1[\"vary_row/q_64\"], 'best')\n",
    "local_best_x2_64, local_best_y2_64, ref_best_x2_64, ref_best_y2_64 = \\\n",
    "    sort_values(\"a_rows\", run_2[\"vary_row/q_64\"], 'best')\n",
    "local_best_x3_64, local_best_y3_64, ref_best_x3_64, ref_best_y3_64 = \\\n",
    "    sort_values(\"a_rows\", run_3[\"vary_row/q_64\"], 'best')\n",
    "local_best_y_avg_64 = [sum(elem)/len(elem) for elem in zip(local_best_y1_64, local_best_y2_64, local_best_y3_64)]\n",
    "ref_best_y_avg_64 = [sum(elem)/len(elem) for elem in zip(ref_best_y1_64, ref_best_y2_64, ref_best_y3_64)]\n",
    "\n",
    "# ln3_best_x1_64, local_best_y1_64, ref_best_x1_64, ref_best_y1_64 = \\\n",
    "#     sort_values(\"a_rows\", ln3_run_1[\"vary_row/q_64\"], 'best')\n",
    "# local_best_x2_64, local_best_y2_64, ref_best_x2_64, ref_best_y2_64 = \\\n",
    "#     sort_values(\"a_rows\", ln3_run_2[\"vary_row/q_64\"], 'best')\n",
    "# local_best_x3_64, local_best_y3_64, ref_best_x3_64, ref_best_y3_64 = \\\n",
    "#     sort_values(\"a_rows\", ln3_run_3[\"vary_row/q_64\"], 'best')\n",
    "# ln3_best_y_avg_64 = [sum(elem)/len(elem) for elem in zip(local_best_y1_64, local_best_y2_64, local_best_y3_64)]\n",
    "\n",
    "\n",
    "# plt.plot(ln3_best_x1_64, ln3_best_y_avg_64, label=\"RegPack 3 Acc U64\", color=\"orange\", marker=\".\")\n",
    "plt.plot(local_best_x1_64, local_best_y_avg_64, label=\"RegPack 2 Acc U64\", color=\"limegreen\", marker=\".\")\n",
    "plt.plot(ref_best_x1_64, ref_best_y_avg_64, label=\"RegPack Base U64\", color=\"maroon\", marker=\".\")\n",
    "\n",
    "plt.xlabel(\"Number of Rows\")\n",
    "plt.ylabel(\"Pseudo-FLOP/s\")\n",
    "plt.yscale(\"log\", basey=10)\n",
    "plt.xscale(\"log\", basex=2)\n",
    "plt.ylim(bottom=1e9)\n",
    "plt.title(\"Number of Rows in A vs Pseudo-FLOP/s\")\n",
    "plt.legend()\n",
    "plt.savefig(\"./../../../plots/regpack_lm/synth/vary_row_u64.pdf\")\n",
    "plt.show()"
   ]
  },
  {
   "cell_type": "markdown",
   "metadata": {},
   "source": [
    "## Vary Cols"
   ]
  },
  {
   "cell_type": "code",
   "execution_count": null,
   "metadata": {},
   "outputs": [],
   "source": [
    "plt.figure(dpi=200, figsize=(10,5))\n",
    "\n",
    "# Q 16\n",
    "local_best_x1_16, local_best_y1_16, ref_best_x1_16, ref_best_y1_16 = \\\n",
    "    sort_values(\"a_cols\", run_1[\"vary_col/q_16\"], 'best')\n",
    "local_best_x2_16, local_best_y2_16, ref_best_x2_16, ref_best_y2_16 = \\\n",
    "    sort_values(\"a_cols\", run_2[\"vary_col/q_16\"], 'best')\n",
    "local_best_x3_16, local_best_y3_16, ref_best_x3_16, ref_best_y3_16 = \\\n",
    "    sort_values(\"a_cols\", run_3[\"vary_col/q_16\"], 'best')\n",
    "local_best_y_avg_16 = [sum(elem)/len(elem) for elem in zip(local_best_y1_16, local_best_y2_16, local_best_y3_16)]\n",
    "ref_best_y_avg_16 = [sum(elem)/len(elem) for elem in zip(ref_best_y1_16, ref_best_y2_16, ref_best_y3_16)]\n",
    "\n",
    "# ln3_best_x1_16, local_best_y1_16, ref_best_x1_16, ref_best_y1_16 = \\\n",
    "#     sort_values(\"a_cols\", ln3_run_1[\"vary_col/q_16\"], 'best')\n",
    "# local_best_x2_16, local_best_y2_16, ref_best_x2_16, ref_best_y2_16 = \\\n",
    "#     sort_values(\"a_cols\", ln3_run_2[\"vary_col/q_16\"], 'best')\n",
    "# local_best_x3_16, local_best_y3_16, ref_best_x3_16, ref_best_y3_16 = \\\n",
    "#     sort_values(\"a_cols\", ln3_run_3[\"vary_col/q_16\"], 'best')\n",
    "# ln3_best_y_avg_16 = [sum(elem)/len(elem) for elem in zip(local_best_y1_16, local_best_y2_16, local_best_y3_16)]\n",
    "\n",
    "# plt.plot(ln3_best_x1_16, ln3_best_y_avg_16, label=\"RegPack 3 Acc U16\", color=\"orange\", marker=\".\")\n",
    "plt.plot(local_best_x1_16, local_best_y_avg_16, label=\"RegPack 2 Acc U16\", color=\"limegreen\", marker=\".\")\n",
    "plt.plot(ref_best_x1_16, ref_best_y_avg_16, label=\"RegPack Base U16\", color=\"maroon\", marker=\".\")\n",
    "\n",
    "\n",
    "plt.xlabel(\"Number of Columns\")\n",
    "plt.ylabel(\"Pseudo-FLOP/s\")\n",
    "plt.yscale(\"log\", basey=10)\n",
    "plt.xscale(\"log\", basex=2)\n",
    "plt.title(\"Number of Columns in A vs Pseudo-FLOP/s\")\n",
    "plt.legend()\n",
    "plt.savefig(\"./../../../plots/regpack_lm/synth/vary_col_u16.pdf\")\n",
    "plt.show()"
   ]
  },
  {
   "cell_type": "code",
   "execution_count": null,
   "metadata": {},
   "outputs": [],
   "source": [
    "plt.figure(dpi=200, figsize=(10,5))\n",
    "\n",
    "# Q 64\n",
    "local_best_x1_64, local_best_y1_64, ref_best_x1_64, ref_best_y1_64 = \\\n",
    "    sort_values(\"a_cols\", run_1[\"vary_col/q_64\"], 'best')\n",
    "local_best_x2_64, local_best_y2_64, ref_best_x2_64, ref_best_y2_64 = \\\n",
    "    sort_values(\"a_cols\", run_2[\"vary_col/q_64\"], 'best')\n",
    "local_best_x3_64, local_best_y3_64, ref_best_x3_64, ref_best_y3_64 = \\\n",
    "    sort_values(\"a_cols\", run_3[\"vary_col/q_64\"], 'best')\n",
    "local_best_y_avg_64 = [sum(elem)/len(elem) for elem in zip(local_best_y1_64, local_best_y2_64, local_best_y3_64)]\n",
    "ref_best_y_avg_64 = [sum(elem)/len(elem) for elem in zip(ref_best_y1_64, ref_best_y2_64, ref_best_y3_64)]\n",
    "\n",
    "# ln3_best_x1_64, local_best_y1_64, ref_best_x1_64, ref_best_y1_64 = \\\n",
    "#     sort_values(\"a_cols\", ln3_run_1[\"vary_col/q_64\"], 'best')\n",
    "# local_best_x2_64, local_best_y2_64, ref_best_x2_64, ref_best_y2_64 = \\\n",
    "#     sort_values(\"a_cols\", ln3_run_2[\"vary_col/q_64\"], 'best')\n",
    "# local_best_x3_64, local_best_y3_64, ref_best_x3_64, ref_best_y3_64 = \\\n",
    "#     sort_values(\"a_cols\", ln3_run_3[\"vary_col/q_64\"], 'best')\n",
    "# ln3_best_y_avg_64 = [sum(elem)/len(elem) for elem in zip(local_best_y1_64, local_best_y2_64, local_best_y3_64)]\n",
    "\n",
    "# plt.plot(ln3_best_x1_64, ln3_best_y_avg_64, label=\"RegPack 3 Acc U64\", color=\"orange\", marker=\".\")\n",
    "plt.plot(local_best_x1_64, local_best_y_avg_64, label=\"RegPack 2 Acc U64\", color=\"limegreen\", marker=\".\")\n",
    "plt.plot(ref_best_x1_64, ref_best_y_avg_64, label=\"RegPack Base U64\", color=\"maroon\", marker=\".\")\n",
    "\n",
    "plt.xlabel(\"Number of Columns\")\n",
    "plt.ylabel(\"Pseudo-FLOP/s\")\n",
    "plt.yscale(\"log\", basey=10)\n",
    "plt.xscale(\"log\", basex=2)\n",
    "plt.title(\"Number of Columns in A vs Pseudo-FLOP/s\")\n",
    "plt.legend()\n",
    "plt.savefig(\"./../../../plots/regpack_lm/synth/vary_col_u64.pdf\")\n",
    "plt.show()"
   ]
  },
  {
   "cell_type": "markdown",
   "metadata": {},
   "source": [
    "##  Vary Density"
   ]
  },
  {
   "cell_type": "code",
   "execution_count": null,
   "metadata": {},
   "outputs": [],
   "source": [
    "plt.figure(dpi=200, figsize=(10,5))\n",
    "\n",
    "# Q 16\n",
    "local_best_x1_16, local_best_y1_16, ref_best_x1_16, ref_best_y1_16 = \\\n",
    "    sort_values(\"density\", run_1[\"vary_density/q_16\"], 'best')\n",
    "local_best_x2_16, local_best_y2_16, ref_best_x2_16, ref_best_y2_16 = \\\n",
    "    sort_values(\"density\", run_2[\"vary_density/q_16\"], 'best')\n",
    "local_best_x3_16, local_best_y3_16, ref_best_x3_16, ref_best_y3_16 = \\\n",
    "    sort_values(\"density\", run_3[\"vary_density/q_16\"], 'best')\n",
    "local_best_y_avg_16 = [sum(elem)/len(elem) for elem in zip(local_best_y1_16, local_best_y2_16, local_best_y3_16)]\n",
    "ref_best_y_avg_16 = [sum(elem)/len(elem) for elem in zip(ref_best_y1_16, ref_best_y2_16, ref_best_y3_16)]\n",
    "\n",
    "# ln3_best_x1_16, local_best_y1_16, ref_best_x1_16, ref_best_y1_16 = \\\n",
    "#     sort_values(\"density\", ln3_run_1[\"vary_density/q_16\"], 'best')\n",
    "# local_best_x2_16, local_best_y2_16, ref_best_x2_16, ref_best_y2_16 = \\\n",
    "#     sort_values(\"density\", ln3_run_2[\"vary_density/q_16\"], 'best')\n",
    "# local_best_x3_16, local_best_y3_16, ref_best_x3_16, ref_best_y3_16 = \\\n",
    "#     sort_values(\"density\", ln3_run_3[\"vary_density/q_16\"], 'best')\n",
    "# ln3_best_y_avg_16 = [sum(elem)/len(elem) for elem in zip(local_best_y1_16, local_best_y2_16, local_best_y3_16)]\n",
    "\n",
    "\n",
    "# plt.plot(ln3_best_x1_16, ln3_best_y_avg_16, label=\"RegPack 3 Acc U16\", color=\"orange\", marker=\".\")\n",
    "plt.plot(local_best_x1_16, local_best_y_avg_16, label=\"RegPack 2 Acc U16\", color=\"limegreen\", marker=\".\")\n",
    "plt.plot(ref_best_x1_16, ref_best_y_avg_16, label=\"RegPack Base U16\", color=\"maroon\", marker=\".\")\n",
    "\n",
    "plt.xlabel(\"Density\")\n",
    "plt.ylabel(\"Pseudo-FLOP/s\")\n",
    "plt.yscale(\"log\", basey=10)\n",
    "plt.title(\"Density of A vs Pseudo-FLOP/s\")\n",
    "plt.legend()\n",
    "plt.savefig(\"./../../../plots/regpack_lm/synth/vary_density_u16.pdf\")\n",
    "plt.show()"
   ]
  },
  {
   "cell_type": "code",
   "execution_count": null,
   "metadata": {},
   "outputs": [],
   "source": [
    "plt.figure(dpi=200, figsize=(10,5))\n",
    "\n",
    "# Q 64\n",
    "local_best_x1_64, local_best_y1_64, ref_best_x1_64, ref_best_y1_64 = \\\n",
    "    sort_values(\"density\", run_1[\"vary_density/q_64\"], 'best')\n",
    "local_best_x2_64, local_best_y2_64, ref_best_x2_64, ref_best_y2_64 = \\\n",
    "    sort_values(\"density\", run_2[\"vary_density/q_64\"], 'best')\n",
    "local_best_x3_64, local_best_y3_64, ref_best_x3_64, ref_best_y3_64 = \\\n",
    "    sort_values(\"density\", run_3[\"vary_density/q_64\"], 'best')\n",
    "local_best_y_avg_64 = [sum(elem)/len(elem) for elem in zip(local_best_y1_64, local_best_y2_64, local_best_y3_64)]\n",
    "ref_best_y_avg_64 = [sum(elem)/len(elem) for elem in zip(ref_best_y1_64, ref_best_y2_64, ref_best_y3_64)]\n",
    "\n",
    "# ln3_best_x1_64, local_best_y1_64, ref_best_x1_64, ref_best_y1_64 = \\\n",
    "#     sort_values(\"density\", ln3_run_1[\"vary_density/q_64\"], 'best')\n",
    "# local_best_x2_64, local_best_y2_64, ref_best_x2_64, ref_best_y2_64 = \\\n",
    "#     sort_values(\"density\", ln3_run_2[\"vary_density/q_64\"], 'best')\n",
    "# local_best_x3_64, local_best_y3_64, ref_best_x3_64, ref_best_y3_64 = \\\n",
    "#     sort_values(\"density\", ln3_run_3[\"vary_density/q_64\"], 'best')\n",
    "# ln3_best_y_avg_64 = [sum(elem)/len(elem) for elem in zip(local_best_y1_64, local_best_y2_64, local_best_y3_64)]\n",
    "\n",
    "# plt.plot(ln3_best_x1_64, ln3_best_y_avg_64, label=\"RegPack 3 Acc U64\", color=\"orange\", marker=\".\")\n",
    "plt.plot(local_best_x1_64, local_best_y_avg_64, label=\"RegPack 2 Acc U64\", color=\"limegreen\", marker=\".\")\n",
    "plt.plot(ref_best_x1_64, ref_best_y_avg_64, label=\"RegPack Base U64\", color=\"maroon\", marker=\".\")\n",
    "\n",
    "plt.xlabel(\"Density\")\n",
    "plt.ylabel(\"Pseudo-FLOP/s\")\n",
    "plt.yscale(\"log\", basey=10)\n",
    "plt.title(\"Density of A vs Pseudo-FLOP/s\")\n",
    "plt.legend()\n",
    "plt.savefig(\"./../../../plots/regpack_lm/synth/vary_density_u64.pdf\")\n",
    "plt.show()"
   ]
  },
  {
   "cell_type": "markdown",
   "metadata": {},
   "source": [
    "## Vary Num Unique"
   ]
  },
  {
   "cell_type": "code",
   "execution_count": null,
   "metadata": {},
   "outputs": [],
   "source": [
    "plt.figure(dpi=200, figsize=(10,5))\n",
    "\n",
    "local_best_x1, local_best_y1, ref_best_x1, ref_best_y1 = \\\n",
    "    sort_values(\"a_unique\", run_1[\"vary_unique\"], 'best')\n",
    "local_best_x2, local_best_y2, ref_best_x2, ref_best_y2 = \\\n",
    "    sort_values(\"a_unique\", run_2[\"vary_unique\"], 'best')\n",
    "local_best_x3, local_best_y3, ref_best_x3, ref_best_y3 = \\\n",
    "    sort_values(\"a_unique\", run_3[\"vary_unique\"], 'best')\n",
    "local_best_y_avg = [sum(elem)/len(elem) for elem in zip(local_best_y1, local_best_y2, local_best_y3)]\n",
    "ref_best_y_avg = [sum(elem)/len(elem) for elem in zip(ref_best_y1, ref_best_y2, ref_best_y3)]\n",
    "\n",
    "# ln3_best_x1, local_best_y1, ref_best_x1, ref_best_y1 = \\\n",
    "#     sort_values(\"a_unique\", ln3_run_1[\"vary_unique\"], 'best')\n",
    "# local_best_x2, local_best_y2, ref_best_x2, ref_best_y2 = \\\n",
    "#     sort_values(\"a_unique\", ln3_run_2[\"vary_unique\"], 'best')\n",
    "# local_best_x3, local_best_y3, ref_best_x3, ref_best_y3 = \\\n",
    "#     sort_values(\"a_unique\", ln3_run_3[\"vary_unique\"], 'best')\n",
    "# ln3_best_y_avg = [sum(elem)/len(elem) for elem in zip(local_best_y1, local_best_y2, local_best_y3)]\n",
    "\n",
    "# plt.plot(ln3_best_x1, ln3_best_y_avg, label=\"RegPack 3 Acc\", color=\"orange\", marker=\".\")\n",
    "plt.plot(local_best_x1, local_best_y_avg, label=\"RegPack 2 Acc\", color=\"limegreen\", marker=\".\")\n",
    "plt.plot(ref_best_x1, ref_best_y_avg, label=\"RegPack Base\", color=\"maroon\", marker=\".\")\n",
    "\n",
    "plt.xlabel(\"Number of Unique Constants\")\n",
    "plt.ylabel(\"Pseudo-FLOP/s\")\n",
    "plt.yscale(\"log\", basey=10)\n",
    "plt.xticks(local_best_x1)\n",
    "plt.title(\"Number of Unique Constants in A vs Pseudo-FLOP/s\")\n",
    "plt.legend()\n",
    "plt.savefig(\"./../../../plots/regpack_lm/synth/vary_unique.pdf\")\n",
    "plt.show()"
   ]
  },
  {
   "cell_type": "code",
   "execution_count": null,
   "metadata": {},
   "outputs": [],
   "source": []
  },
  {
   "cell_type": "code",
   "execution_count": null,
   "metadata": {},
   "outputs": [],
   "source": []
  },
  {
   "cell_type": "code",
   "execution_count": null,
   "metadata": {},
   "outputs": [],
   "source": []
  }
 ],
 "metadata": {
  "kernelspec": {
   "display_name": "Python 3",
   "language": "python",
   "name": "python3"
  },
  "language_info": {
   "codemirror_mode": {
    "name": "ipython",
    "version": 3
   },
   "file_extension": ".py",
   "mimetype": "text/x-python",
   "name": "python",
   "nbconvert_exporter": "python",
   "pygments_lexer": "ipython3",
   "version": "3.6.9"
  }
 },
 "nbformat": 4,
 "nbformat_minor": 4
}
