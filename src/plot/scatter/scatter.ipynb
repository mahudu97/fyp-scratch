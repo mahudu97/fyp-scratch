{
 "cells": [
  {
   "cell_type": "code",
   "execution_count": 116,
   "metadata": {},
   "outputs": [],
   "source": [
    "import matplotlib.pyplot as plt\n",
    "%matplotlib inline\n",
    "import pickle\n",
    "import os\n",
    "import numpy as np"
   ]
  },
  {
   "cell_type": "code",
   "execution_count": 117,
   "metadata": {},
   "outputs": [],
   "source": [
    "from calc_pseudo import clean, basic_flops\n",
    "B_TARGET_PANEL_WIDTH = 48\n",
    "\n",
    "MAT_PATH = \"./../../../example_mats_med/\"\n",
    "mat_paths = sum([[os.path.join(dir, file) for file in files] for dir, _, files in os.walk(MAT_PATH)], [])\n",
    "\n",
    "mat_flops = {}\n",
    "\n",
    "for mat_path in mat_paths:\n",
    "    with open(mat_path) as f:\n",
    "        test_mat = clean(np.loadtxt(f))\n",
    "    FLOPS_PER_PANEL = basic_flops(test_mat, B_TARGET_PANEL_WIDTH)\n",
    "    \n",
    "    mat_flops[mat_path.split(\"./../../../\")[1]] = FLOPS_PER_PANEL"
   ]
  },
  {
   "cell_type": "markdown",
   "metadata": {},
   "source": [
    "## Load Data"
   ]
  },
  {
   "cell_type": "code",
   "execution_count": 118,
   "metadata": {},
   "outputs": [],
   "source": [
    "LOG_DIR = \"./../../../logs/reg_pack/pyfr/\"\n",
    "\n",
    "with open(LOG_DIR+\"run_1.dat\", \"rb\") as f:\n",
    "    run_1 = pickle.load(f)\n",
    "with open(LOG_DIR+\"run_2.dat\", \"rb\") as f:\n",
    "    run_2 = pickle.load(f)\n",
    "with open(LOG_DIR+\"run_3.dat\", \"rb\") as f:\n",
    "    run_3 = pickle.load(f)"
   ]
  },
  {
   "cell_type": "markdown",
   "metadata": {},
   "source": [
    "## Get Data"
   ]
  },
  {
   "cell_type": "code",
   "execution_count": 119,
   "metadata": {},
   "outputs": [],
   "source": [
    "shapes = [\"quad\", \"hex\", \"tri\", \"tet\"]\n",
    "x_terms = ['a_unique', 'density']"
   ]
  },
  {
   "cell_type": "code",
   "execution_count": 120,
   "metadata": {},
   "outputs": [],
   "source": [
    "def get_values(x_term, run, mat_flops, t='best'):\n",
    "    NUM_PANELS = 192000 / 48\n",
    "\n",
    "    local_best = []\n",
    "    ref_best = []\n",
    "    local_best_x, local_best_y = [], []\n",
    "    ref_best_x, ref_best_y = [], []\n",
    "\n",
    "    for shape in shapes:\n",
    "        for i, u in enumerate(run[shape][x_term]):\n",
    "            FLOPS_PER_PANEL = mat_flops[run[shape]['mat_file'][i]]\n",
    "\n",
    "            time_per_panel_local = (run[shape]['xsmm_local_'+t][i]*1e-3)/NUM_PANELS\n",
    "            time_per_panel_ref   = (run[shape]['xsmm_upstream_'+t][i]*1e-3)/NUM_PANELS\n",
    "\n",
    "            local_best_x.append(u)\n",
    "            local_best_y.append(FLOPS_PER_PANEL / time_per_panel_local)\n",
    "            ref_best_x.append(u)\n",
    "            ref_best_y.append(FLOPS_PER_PANEL / time_per_panel_ref)\n",
    "    \n",
    "    old_len = len(local_best_y)\n",
    "\n",
    "    local_best_y = [x for _,x in sorted(zip(local_best_x,local_best_y))]\n",
    "    local_best_x.sort()\n",
    "    \n",
    "    assert(old_len == len(local_best_y))\n",
    "\n",
    "    ref_best_y = [x for _,x in sorted(zip(ref_best_x,ref_best_y))]\n",
    "    ref_best_x.sort()\n",
    "\n",
    "    return local_best_x, local_best_y, ref_best_x, ref_best_y"
   ]
  },
  {
   "cell_type": "markdown",
   "metadata": {},
   "source": [
    "# Scatter"
   ]
  },
  {
   "cell_type": "code",
   "execution_count": 123,
   "metadata": {},
   "outputs": [],
   "source": [
    "# unique\n",
    "x_term = \"a_unique\"\n",
    "local_best_x1, local_best_y1, ref_best_x1, ref_best_y1 = \\\n",
    "    get_values(x_term, run_1, mat_flops, 'best')\n",
    "local_best_x2, local_best_y2, ref_best_x2, ref_best_y2 = \\\n",
    "    get_values(x_term, run_2, mat_flops, 'best')\n",
    "local_best_x3, local_best_y3, ref_best_x3, ref_best_y3 = \\\n",
    "    get_values(x_term, run_3, mat_flops, 'best')\n",
    "local_best_y_avg_unique = [sum(elem)/len(elem) for elem in zip(local_best_y1, local_best_y2, local_best_y3)]\n",
    "ref_best_y_avg_unique = [sum(elem)/len(elem) for elem in zip(ref_best_y1, ref_best_y2, ref_best_y3)]\n",
    "local_best_x_unique = local_best_x1\n",
    "ref_best_x_unique = ref_best_x1\n",
    "\n",
    "# density\n",
    "x_term = \"density\"\n",
    "local_best_x1, local_best_y1, ref_best_x1, ref_best_y1 = \\\n",
    "    get_values(x_term, run_1, mat_flops, 'best')\n",
    "local_best_x2, local_best_y2, ref_best_x2, ref_best_y2 = \\\n",
    "    get_values(x_term, run_2, mat_flops, 'best')\n",
    "local_best_x3, local_best_y3, ref_best_x3, ref_best_y3 = \\\n",
    "    get_values(x_term, run_3, mat_flops, 'best')\n",
    "local_best_y_avg_density = [sum(elem)/len(elem) for elem in zip(local_best_y1, local_best_y2, local_best_y3)]\n",
    "ref_best_y_avg_density = [sum(elem)/len(elem) for elem in zip(ref_best_y1, ref_best_y2, ref_best_y3)]\n",
    "local_best_x_density = local_best_x1\n",
    "ref_best_x_density = ref_best_x1"
   ]
  },
  {
   "cell_type": "markdown",
   "metadata": {},
   "source": [
    "## Process to get best from each"
   ]
  },
  {
   "cell_type": "code",
   "execution_count": 124,
   "metadata": {},
   "outputs": [],
   "source": [
    "for i in range(len(local_best_y_avg_unique)):\n",
    "    # local slower\n",
    "    if local_best_y_avg_unique[i] < ref_best_y_avg_unique[i]:\n",
    "        local_best_y_avg_unique[i] = 0\n",
    "        local_best_x_unique[i] = 0\n",
    "\n",
    "        local_best_x_density[i] = 0\n",
    "    # ref slower\n",
    "    else:\n",
    "        ref_best_y_avg_unique[i] = 0\n",
    "        ref_best_x_unique[i] = 0\n",
    "\n",
    "        ref_best_x_density[i] = 0\n",
    "\n",
    "local_best_y_avg_unique = list(filter(lambda a: a != 0, local_best_y_avg_unique))\n",
    "local_best_x_unique = list(filter(lambda a: a != 0, local_best_x_unique))\n",
    "ref_best_y_avg_unique = list(filter(lambda a: a != 0, ref_best_y_avg_unique))\n",
    "ref_best_x_unique = list(filter(lambda a: a != 0, ref_best_x_unique))\n",
    "\n",
    "local_best_x_density = list(filter(lambda a: a != 0, local_best_x_density))\n",
    "ref_best_x_density = list(filter(lambda a: a != 0, ref_best_x_density))\n",
    "\n",
    "# for i in range(len(local_best_y_avg_density)):\n",
    "#     # local slower\n",
    "#     if local_best_y_avg_density[i] < ref_best_y_avg_density[i]:\n",
    "#         local_best_y_avg_density[i] = 0\n",
    "#         local_best_x_density[i] = 0\n",
    "\n",
    "#         local_best_x_unique[i] = 0\n",
    "#     # ref slower\n",
    "#     else:\n",
    "#         ref_best_y_avg_density[i] = 0\n",
    "#         ref_best_x_density[i] = 0\n",
    "\n",
    "#         ref_best_x_unique[i] = 0\n",
    "\n",
    "# local_best_y_avg_density = list(filter(lambda a: a != 0, local_best_y_avg_density))\n",
    "# local_best_x_density = list(filter(lambda a: a != 0, local_best_x_density))\n",
    "# ref_best_y_avg_density = list(filter(lambda a: a != 0, local_best_y_avg_density))\n",
    "# ref_best_x_density = list(filter(lambda a: a != 0, ref_best_x_density))\n",
    "\n",
    "# local_best_x_unique = list(filter(lambda a: a != 0, local_best_x_unique))\n",
    "# ref_best_x_unique = list(filter(lambda a: a != 0, ref_best_x_unique))\n"
   ]
  },
  {
   "cell_type": "code",
   "execution_count": 114,
   "metadata": {},
   "outputs": [
    {
     "data": {
      "text/plain": [
       "39"
      ]
     },
     "execution_count": 114,
     "metadata": {},
     "output_type": "execute_result"
    }
   ],
   "source": [
    "len(ref_best_x_density)"
   ]
  },
  {
   "cell_type": "markdown",
   "metadata": {},
   "source": [
    "## Scatter plot"
   ]
  },
  {
   "cell_type": "code",
   "execution_count": 125,
   "metadata": {},
   "outputs": [
    {
     "data": {
      "image/png": "[encoded data removed]",
      "text/plain": [
       "<Figure size 504x360 with 1 Axes>"
      ]
     },
     "metadata": {
      "needs_background": "light"
     },
     "output_type": "display_data"
    }
   ],
   "source": [
    "# plot best\n",
    "plt.figure(figsize=(7,5))\n",
    "#ax = fig.add_axes([0,0,1,1])\n",
    "\n",
    "plt.scatter(ref_best_x_unique, ref_best_x_density, s=15, color='maroon', label=\"Reference MM Library\")\n",
    "plt.scatter(local_best_x_unique, local_best_x_density, s=15, color='b', label=\"Our Updated Version\")\n",
    "\n",
    "\n",
    "plt.xlabel('Number of Unique Non-Zeros')\n",
    "plt.ylabel('Density')\n",
    "plt.title('When was the update faster?')\n",
    "plt.legend()\n",
    "plt.savefig(\"./../../../plots/scatter/our_vs_red.pdf\", dpi=fig.dpi)\n",
    "plt.show()"
   ]
  },
  {
   "cell_type": "code",
   "execution_count": 126,
   "metadata": {},
   "outputs": [
    {
     "data": {
      "image/png": "[encoded data removed]",
      "text/plain": [
       "<Figure size 504x360 with 1 Axes>"
      ]
     },
     "metadata": {
      "needs_background": "light"
     },
     "output_type": "display_data"
    }
   ],
   "source": [
    "# plot best\n",
    "plt.figure(figsize=(7,5))\n",
    "#ax = fig.add_axes([0,0,1,1])\n",
    "\n",
    "plt.scatter(ref_best_x_unique, ref_best_x_density, s=15, color='maroon', label=\"Reference LIBXSMM\")\n",
    "plt.scatter(local_best_x_unique, local_best_x_density, s=15, color='b', label=\"Register Packing\")\n",
    "\n",
    "\n",
    "plt.xlabel('Number of Unique Non-Zeros')\n",
    "plt.ylabel('Density')\n",
    "plt.title('When was the update faster?')\n",
    "plt.legend(loc=\"lower right\")\n",
    "plt.savefig(\"./../../../plots/scatter/regpack.pdf\", dpi=fig.dpi)\n",
    "plt.show()"
   ]
  },
  {
   "cell_type": "code",
   "execution_count": null,
   "metadata": {},
   "outputs": [],
   "source": []
  }
 ],
 "metadata": {
  "kernelspec": {
   "display_name": "Python 3",
   "language": "python",
   "name": "python3"
  },
  "language_info": {
   "codemirror_mode": {
    "name": "ipython",
    "version": 3
   },
   "file_extension": ".py",
   "mimetype": "text/x-python",
   "name": "python",
   "nbconvert_exporter": "python",
   "pygments_lexer": "ipython3",
   "version": "3.6.9"
  }
 },
 "nbformat": 4,
 "nbformat_minor": 4
}
