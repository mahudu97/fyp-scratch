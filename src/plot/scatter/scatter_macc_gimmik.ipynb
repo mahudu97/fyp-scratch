{
 "cells": [
  {
   "cell_type": "code",
   "execution_count": 22,
   "metadata": {},
   "outputs": [],
   "source": [
    "import matplotlib.pyplot as plt\n",
    "%matplotlib inline\n",
    "import pickle\n",
    "import os\n",
    "import numpy as np"
   ]
  },
  {
   "cell_type": "code",
   "execution_count": 23,
   "metadata": {},
   "outputs": [],
   "source": [
    "from calc_pseudo import clean, basic_flops\n",
    "B_TARGET_PANEL_WIDTH = 48\n",
    "\n",
    "MAT_PATH = \"./../../../example_mats_med/\"\n",
    "mat_paths = sum([[os.path.join(dir, file) for file in files] for dir, _, files in os.walk(MAT_PATH)], [])\n",
    "\n",
    "mat_flops = {}\n",
    "\n",
    "for mat_path in mat_paths:\n",
    "    with open(mat_path) as f:\n",
    "        test_mat = clean(np.loadtxt(f))\n",
    "    FLOPS_PER_PANEL = basic_flops(test_mat, B_TARGET_PANEL_WIDTH)\n",
    "    \n",
    "    mat_flops[mat_path.split(\"./../../../\")[1]] = FLOPS_PER_PANEL"
   ]
  },
  {
   "cell_type": "markdown",
   "metadata": {},
   "source": [
    "## Load Data"
   ]
  },
  {
   "cell_type": "code",
   "execution_count": 24,
   "metadata": {},
   "outputs": [],
   "source": [
    "LN3_DIR = \"./../../../logs/regpack_macc/regpack_ln/pyfr/\" # ref\n",
    "\n",
    "GIMMIK_DIR  = \"./../../../logs/gimmik/pyfr/\"\n",
    "\n",
    "REF_DIR = \"./../../../logs/reg_pack/pyfr/\"\n",
    "\n",
    "ln3_runs = []\n",
    "gimmik_runs = []\n",
    "ref_runs = []\n",
    "\n",
    "NUM_RUNS = 3\n",
    "\n",
    "for i in range(1,NUM_RUNS+1):\n",
    "    with open(LN3_DIR+\"run_{}.dat\".format(i), \"rb\") as f:\n",
    "        ln3_runs.append( pickle.load(f) )\n",
    "    with open(GIMMIK_DIR+\"run_{}.dat\".format(i), \"rb\") as f:\n",
    "        gimmik_runs.append( pickle.load(f) )\n",
    "    with open(REF_DIR+\"run_{}.dat\".format(i), \"rb\") as f:\n",
    "        ref_runs.append( pickle.load(f) )"
   ]
  },
  {
   "cell_type": "markdown",
   "metadata": {},
   "source": [
    "## Get Data"
   ]
  },
  {
   "cell_type": "code",
   "execution_count": 25,
   "metadata": {},
   "outputs": [],
   "source": [
    "shapes = [\"quad\", \"hex\", \"tri\", \"tet\"]\n",
    "x_terms = ['a_unique', 'density']"
   ]
  },
  {
   "cell_type": "code",
   "execution_count": 26,
   "metadata": {},
   "outputs": [],
   "source": [
    "def get_values(x_term, run, mat_flops, t='best'):\n",
    "    NUM_PANELS = 192000 / 48\n",
    "\n",
    "    local_best = []\n",
    "    ref_best = []\n",
    "    local_best_x, local_best_y = [], []\n",
    "    ref_best_x, ref_best_y = [], []\n",
    "\n",
    "    for shape in shapes:\n",
    "        for i, u in enumerate(run[shape][x_term]):\n",
    "            FLOPS_PER_PANEL = mat_flops[run[shape]['mat_file'][i]]\n",
    "\n",
    "            time_per_panel_local = (run[shape]['xsmm_local_'+t][i]*1e-3)/NUM_PANELS\n",
    "            time_per_panel_ref   = (run[shape]['xsmm_upstream_'+t][i]*1e-3)/NUM_PANELS\n",
    "\n",
    "            local_best_x.append(u)\n",
    "            local_best_y.append(FLOPS_PER_PANEL / time_per_panel_local)\n",
    "            ref_best_x.append(u)\n",
    "            ref_best_y.append(FLOPS_PER_PANEL / time_per_panel_ref)\n",
    "    \n",
    "    old_len = len(local_best_y)\n",
    "\n",
    "    local_best_y = [x for _,x in sorted(zip(local_best_x,local_best_y))]\n",
    "    local_best_x.sort()\n",
    "    \n",
    "    assert(old_len == len(local_best_y))\n",
    "\n",
    "    ref_best_y = [x for _,x in sorted(zip(ref_best_x,ref_best_y))]\n",
    "    ref_best_x.sort()\n",
    "\n",
    "    return local_best_x, local_best_y, ref_best_x, ref_best_y"
   ]
  },
  {
   "cell_type": "code",
   "execution_count": 27,
   "metadata": {},
   "outputs": [],
   "source": [
    "def get_values_gimmik(x_term, run, mat_flops, t='best'):\n",
    "    NUM_PANELS = 192000 / 48\n",
    "\n",
    "    best = []\n",
    "    best_x = []\n",
    "    best_y = []\n",
    "\n",
    "    for shape in shapes:\n",
    "        for i, u in enumerate(run[shape][x_term]):\n",
    "            FLOPS_PER_PANEL = mat_flops[run[shape]['mat_file'][i]]\n",
    "\n",
    "            time_per_panel = (run[shape]['gimmik_'+t][i]*1e-3)/NUM_PANELS\n",
    "\n",
    "            best_x.append(u)\n",
    "            best_y.append(FLOPS_PER_PANEL / time_per_panel)\n",
    "    \n",
    "    old_len = len(best_y)\n",
    "\n",
    "    best_y = [x for _,x in sorted(zip(best_x,best_y))]\n",
    "    best_x.sort()\n",
    "    \n",
    "\n",
    "    return best_x, best_y"
   ]
  },
  {
   "cell_type": "markdown",
   "metadata": {},
   "source": [
    "# Scatter"
   ]
  },
  {
   "cell_type": "code",
   "execution_count": 35,
   "metadata": {},
   "outputs": [],
   "source": [
    "# ref\n",
    "# unique\n",
    "x_term = \"a_unique\"\n",
    "_, _, ref_best_x1, ref_best_y1 = \\\n",
    "    get_values(x_term, ref_runs[0], mat_flops, 'best')\n",
    "_, _, ref_best_x2, ref_best_y2 = \\\n",
    "    get_values(x_term, ref_runs[2], mat_flops, 'best')\n",
    "_, _, ref_best_x3, ref_best_y3 = \\\n",
    "    get_values(x_term, ref_runs[0], mat_flops, 'best')\n",
    "ref_best_y_avg_unique = [sum(elem)/len(elem) for elem in zip(ref_best_y1, ref_best_y2, ref_best_y3)]\n",
    "ref_best_x_unique = ref_best_x1\n",
    "\n",
    "# density\n",
    "x_term = \"density\"\n",
    "_, _, ref_best_x1, ref_best_y1 = \\\n",
    "    get_values(x_term, ref_runs[0], mat_flops, 'best')\n",
    "_, _, ref_best_x2, ref_best_y2 = \\\n",
    "    get_values(x_term, ref_runs[1], mat_flops, 'best')\n",
    "_, _, ref_best_x3, ref_best_y3 = \\\n",
    "    get_values(x_term, ref_runs[2], mat_flops, 'best')\n",
    "ref_best_y_avg_density = [sum(elem)/len(elem) for elem in zip(ref_best_y1, ref_best_y2, ref_best_y3)]\n",
    "ref_best_x_density = ref_best_x1"
   ]
  },
  {
   "cell_type": "code",
   "execution_count": 33,
   "metadata": {},
   "outputs": [],
   "source": [
    "# ln3_runs\n",
    "# unique\n",
    "x_term = \"a_unique\"\n",
    "local_best_x1, local_best_y1, _, _ = \\\n",
    "    get_values(x_term, ln3_runs[0], mat_flops, 'best')\n",
    "local_best_x2, local_best_y2, _, _ = \\\n",
    "    get_values(x_term, ln3_runs[1], mat_flops, 'best')\n",
    "local_best_x3, local_best_y3, _, _ = \\\n",
    "    get_values(x_term, ln3_runs[2], mat_flops, 'best')\n",
    "ln3_best_y_avg_unique = [sum(elem)/len(elem) for elem in zip(local_best_y1, local_best_y2, local_best_y3)]\n",
    "ln3_best_x_unique = local_best_x1\n",
    "\n",
    "# density\n",
    "x_term = \"density\"\n",
    "local_best_x1, local_best_y1, _, _ = \\\n",
    "    get_values(x_term, ln3_runs[0], mat_flops, 'best')\n",
    "local_best_x2, local_best_y2, _, _ = \\\n",
    "    get_values(x_term, ln3_runs[1], mat_flops, 'best')\n",
    "local_best_x3, local_best_y3, _, _ = \\\n",
    "    get_values(x_term, ln3_runs[2], mat_flops, 'best')\n",
    "ln3_best_y_avg_density = [sum(elem)/len(elem) for elem in zip(local_best_y1, local_best_y2, local_best_y3)]\n",
    "ln3_best_x_density = local_best_x1"
   ]
  },
  {
   "cell_type": "code",
   "execution_count": 34,
   "metadata": {},
   "outputs": [],
   "source": [
    "# gimmik\n",
    "# unique\n",
    "x_term = \"a_unique\"\n",
    "local_best_x1, local_best_y1 = \\\n",
    "    get_values_gimmik(x_term, gimmik_runs[0], mat_flops, 'best')\n",
    "local_best_x2, local_best_y2 = \\\n",
    "    get_values_gimmik(x_term, gimmik_runs[1], mat_flops, 'best')\n",
    "local_best_x3, local_best_y3 = \\\n",
    "    get_values_gimmik(x_term, gimmik_runs[2], mat_flops, 'best')\n",
    "gimmik_best_y_avg_unique = [sum(elem)/len(elem) for elem in zip(local_best_y1, local_best_y2, local_best_y3)]\n",
    "gimmik_best_x_unique = local_best_x1\n",
    "\n",
    "# density\n",
    "x_term = \"density\"\n",
    "local_best_x1, local_best_y1 = \\\n",
    "    get_values_gimmik(x_term, gimmik_runs[0], mat_flops, 'best')\n",
    "local_best_x2, local_best_y2 = \\\n",
    "    get_values_gimmik(x_term, gimmik_runs[1], mat_flops, 'best')\n",
    "local_best_x3, local_best_y3 = \\\n",
    "    get_values_gimmik(x_term, gimmik_runs[2], mat_flops, 'best')\n",
    "gimmik_best_y_avg_density = [sum(elem)/len(elem) for elem in zip(local_best_y1, local_best_y2, local_best_y3)]\n",
    "gimmik_best_x_density = local_best_x1"
   ]
  },
  {
   "cell_type": "markdown",
   "metadata": {},
   "source": [
    "## Process to get best from each"
   ]
  },
  {
   "cell_type": "code",
   "execution_count": 36,
   "metadata": {},
   "outputs": [],
   "source": [
    "for i in range(len(ln3_best_y_avg_unique)):\n",
    "    # ln3_runs fastest\n",
    "    if ln3_best_y_avg_unique[i] > ref_best_y_avg_unique[i] and ln3_best_y_avg_unique[i] > gimmik_best_y_avg_unique[i]:\n",
    "        ref_best_y_avg_unique[i] = 0\n",
    "        ref_best_x_unique[i] = 0\n",
    "        ref_best_x_density[i] = 0\n",
    "\n",
    "        gimmik_best_y_avg_unique[i] = 0\n",
    "        gimmik_best_x_unique[i] = 0\n",
    "        gimmik_best_x_density[i] = 0\n",
    "    # gimmik fastest\n",
    "    elif gimmik_best_y_avg_unique[i] > ref_best_y_avg_unique[i] and gimmik_best_y_avg_unique[i] > ln3_best_y_avg_unique[i]:\n",
    "        ref_best_y_avg_unique[i] = 0\n",
    "        ref_best_x_unique[i] = 0\n",
    "        ref_best_x_density[i] = 0\n",
    "\n",
    "        ln3_best_y_avg_unique[i] = 0\n",
    "        ln3_best_x_unique[i] = 0\n",
    "        ln3_best_x_density[i] = 0\n",
    "    # ref fastest\n",
    "    else:\n",
    "        ln3_best_y_avg_unique[i] = 0\n",
    "        ln3_best_x_unique[i] = 0\n",
    "        ln3_best_x_density[i] = 0\n",
    "        \n",
    "        gimmik_best_y_avg_unique[i] = 0\n",
    "        gimmik_best_x_unique[i] = 0\n",
    "        gimmik_best_x_density[i] = 0\n",
    "\n",
    "ln3_best_y_avg_unique = list(filter(lambda a: a != 0,ln3_best_y_avg_unique))\n",
    "ln3_best_x_unique = list(filter(lambda a: a != 0, ln3_best_x_unique))\n",
    "ln3_best_x_density = list(filter(lambda a: a != 0, ln3_best_x_density))\n",
    "\n",
    "gimmik_best_y_avg_unique = list(filter(lambda a: a != 0, gimmik_best_y_avg_unique))\n",
    "gimmik_best_x_unique = list(filter(lambda a: a != 0, gimmik_best_x_unique))\n",
    "gimmik_best_x_density = list(filter(lambda a: a != 0, gimmik_best_x_density))\n",
    "\n",
    "ref_best_y_avg_unique = list(filter(lambda a: a != 0, ref_best_y_avg_unique))\n",
    "ref_best_x_unique = list(filter(lambda a: a != 0, ref_best_x_unique))\n",
    "ref_best_x_density = list(filter(lambda a: a != 0, ref_best_x_density))"
   ]
  },
  {
   "cell_type": "markdown",
   "metadata": {},
   "source": [
    "## Scatter plot"
   ]
  },
  {
   "cell_type": "code",
   "execution_count": 50,
   "metadata": {},
   "outputs": [
    {
     "data": {
      "image/png": "[encoded data removed]",
      "text/plain": [
       "<Figure size 504x360 with 1 Axes>"
      ]
     },
     "metadata": {
      "needs_background": "light"
     },
     "output_type": "display_data"
    }
   ],
   "source": [
    "# plot best\n",
    "plt.figure(figsize=(7,5))\n",
    "#ax = fig.add_axes([0,0,1,1])\n",
    "\n",
    "plt.scatter(ref_best_x_unique, ref_best_x_density, s=8, color='black', label=\"Reference LIBXSMM\")\n",
    "plt.scatter(gimmik_best_x_unique, gimmik_best_x_density, s=8, color='limegreen', label=\"GiMMiK\")\n",
    "plt.scatter(ln3_best_x_unique, ln3_best_x_density, s=7, color='r', label=\"Multiple Accumulation\")\n",
    "\n",
    "\n",
    "plt.xlabel('Number of Unique Non-Zeros')\n",
    "plt.ylabel('Density')\n",
    "plt.title('Multiple Accumulation (N=3 Blocking) LIBXSMM vs GiMMiK vs Ref LIBXSMM')\n",
    "plt.legend(loc=\"lower right\")\n",
    "plt.savefig(\"./../../../plots/scatter/ln3_gimmik_ref.pdf\")\n",
    "plt.show()"
   ]
  },
  {
   "cell_type": "code",
   "execution_count": null,
   "metadata": {},
   "outputs": [],
   "source": []
  }
 ],
 "metadata": {
  "kernelspec": {
   "display_name": "Python 3",
   "language": "python",
   "name": "python3"
  },
  "language_info": {
   "codemirror_mode": {
    "name": "ipython",
    "version": 3
   },
   "file_extension": ".py",
   "mimetype": "text/x-python",
   "name": "python",
   "nbconvert_exporter": "python",
   "pygments_lexer": "ipython3",
   "version": "3.6.9"
  }
 },
 "nbformat": 4,
 "nbformat_minor": 4
}
