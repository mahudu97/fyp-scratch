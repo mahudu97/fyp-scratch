{
 "cells": [
  {
   "cell_type": "code",
   "execution_count": 35,
   "metadata": {},
   "outputs": [],
   "source": [
    "from __future__ import print_function\n",
    "import numpy as np\n",
    "import os\n",
    "import subprocess\n",
    "import sys\n",
    "import re\n",
    "import random\n",
    "import pprint as pp\n",
    "from tabulate import tabulate"
   ]
  },
  {
   "cell_type": "code",
   "execution_count": 36,
   "metadata": {},
   "outputs": [],
   "source": [
    "def clean(matrix, tol=1e-10):\n",
    "    arr = matrix.copy()\n",
    "\n",
    "    # Flush small elements to zero\n",
    "    arr[np.abs(arr) < tol] = 0\n",
    "\n",
    "    # Coalesce similar elements\n",
    "    if arr.size > 1:\n",
    "        amfl = np.abs(arr.flat)\n",
    "        amix = np.argsort(amfl)\n",
    "\n",
    "        i, ix = 0, amix[0]\n",
    "        for j, jx in enumerate(amix[1:], start=1):\n",
    "            if amfl[jx] - amfl[ix] >= tol:\n",
    "                if j - i > 1:\n",
    "                    amfl[amix[i:j]] = np.median(amfl[amix[i:j]])\n",
    "                i, ix = j, jx\n",
    "\n",
    "        if i != j:\n",
    "            amfl[amix[i:]] = np.median(amfl[amix[i:]])\n",
    "\n",
    "        # Fix up the signs and assign\n",
    "        arr.flat = np.copysign(amfl, arr.flat)\n",
    "\n",
    "    return arr\n",
    "\n",
    "def count_unique_constants(matrix, tol=1e-10):\n",
    "    arr = matrix.copy()\n",
    "    arr = arr[abs(arr) >= tol]\n",
    "    unique, counts = np.unique(arr, return_counts=True)\n",
    "    return np.array((unique, counts)).T\n",
    "\n",
    "def num_unique_constants(matrix):\n",
    "    return len(count_unique_constants(matrix))"
   ]
  },
  {
   "cell_type": "code",
   "execution_count": 37,
   "metadata": {},
   "outputs": [],
   "source": [
    "def gen_matrix_kernels(file_name):\n",
    "    clean_mat  = clean(np.loadtxt(file_name))\n",
    "    rows       = np.size(clean_mat, 0)\n",
    "    columns    = np.size(clean_mat, 1)\n",
    "    density    = float(np.count_nonzero(clean_mat)) / float(clean_mat.size)\n",
    "    num_unique = num_unique_constants(clean_mat)\n",
    "    \n",
    "    return rows, columns, density, num_unique\n",
    "\n",
    "def atoi(text):\n",
    "    return int(text) if text.isdigit() else text\n",
    "def natural_keys(text):\n",
    "    return [atoi(c) for c in re.split(r'(\\d+)', text)]\n"
   ]
  },
  {
   "cell_type": "code",
   "execution_count": 87,
   "metadata": {},
   "outputs": [
    {
     "name": "stdout",
     "output_type": "stream",
     "text": [
      "\\begin{tabular}{lrrrr}\n",
      "\\hline\n",
      " Matrix   &   $R$ &   $C$ &    $p$ &   $U$ \\\\\n",
      "\\hline\n",
      " m0       &    12 &     4 & 1.0000 &     3 \\\\\n",
      " m3       &     4 &    12 & 1.0000 &     6 \\\\\n",
      " m6       &    12 &    12 & 0.5000 &     6 \\\\\n",
      " m132     &     4 &    12 & 0.5000 &     2 \\\\\n",
      " m460     &    12 &     4 & 0.5000 &     2 \\\\\n",
      "\\hline\n",
      "\\end{tabular}\n"
     ]
    }
   ],
   "source": [
    "mats_dir = \"./../example_mats/tet/p1/shunn-ham\"\n",
    "mat_paths = sum([[os.path.join(dir, file) for file in files] for dir, _, files in os.walk(mats_dir)], [])\n",
    "mat_paths.sort(key=natural_keys)\n",
    "\n",
    "headers = [\"Matrix\", \"$R$\", \"$C$\", \"$p$\", \"$U$\"]\n",
    "data = []\n",
    "if mat_paths:\n",
    "    for mat_path in mat_paths:\n",
    "        m = [ mat_path.split('/')[-1].split('.txt')[0] ] # mX\n",
    "        characteristics = gen_matrix_kernels(mat_path)\n",
    "        m.extend(characteristics)\n",
    "        data.append(m)\n",
    "        table = tabulate(data, headers, tablefmt=\"latex_raw\", floatfmt=\".4f\")\n",
    "    print(table)"
   ]
  },
  {
   "cell_type": "code",
   "execution_count": null,
   "metadata": {},
   "outputs": [],
   "source": []
  },
  {
   "cell_type": "code",
   "execution_count": null,
   "metadata": {},
   "outputs": [],
   "source": []
  }
 ],
 "metadata": {
  "kernelspec": {
   "display_name": "Python 3",
   "language": "python",
   "name": "python3"
  },
  "language_info": {
   "codemirror_mode": {
    "name": "ipython",
    "version": 3
   },
   "file_extension": ".py",
   "mimetype": "text/x-python",
   "name": "python",
   "nbconvert_exporter": "python",
   "pygments_lexer": "ipython3",
   "version": "3.6.9"
  }
 },
 "nbformat": 4,
 "nbformat_minor": 4
}
